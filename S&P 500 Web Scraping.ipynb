{
 "cells": [
  {
   "cell_type": "code",
   "execution_count": 26,
   "id": "63816b13",
   "metadata": {},
   "outputs": [],
   "source": [
    "import pandas as pd\n",
    "import numpy as np\n",
    "from bs4 import BeautifulSoup\n",
    "import requests\n",
    "import re\n",
    "from html5lib.html5parser import HTMLParser\n",
    "import lxml\n",
    "import matplotlib\n",
    "import matplotlib.pyplot as plt\n",
    "import seaborn as sns"
   ]
  },
  {
   "cell_type": "code",
   "execution_count": 2,
   "id": "20895c60",
   "metadata": {},
   "outputs": [],
   "source": [
    "url = 'https://stockmarketmba.com/stocksinthesp500.php'"
   ]
  },
  {
   "cell_type": "code",
   "execution_count": 3,
   "id": "b0ba682f",
   "metadata": {},
   "outputs": [
    {
     "data": {
      "text/plain": [
       "200"
      ]
     },
     "execution_count": 3,
     "metadata": {},
     "output_type": "execute_result"
    }
   ],
   "source": [
    "#Checking if website allows Scraping\n",
    "r = requests.get(url)\n",
    "r.status_code"
   ]
  },
  {
   "cell_type": "code",
   "execution_count": 43,
   "id": "35c8593e",
   "metadata": {},
   "outputs": [],
   "source": [
    "#dfs = pd.read_html(url)"
   ]
  },
  {
   "cell_type": "code",
   "execution_count": 44,
   "id": "a71d85eb",
   "metadata": {},
   "outputs": [],
   "source": [
    "# Checking Number of tables\n",
    "#len(dfs)"
   ]
  },
  {
   "cell_type": "code",
   "execution_count": 45,
   "id": "b6c0196d",
   "metadata": {},
   "outputs": [],
   "source": [
    "#data = dfs[0]\n",
    "#data.head()"
   ]
  },
  {
   "cell_type": "code",
   "execution_count": 4,
   "id": "2d6095c0",
   "metadata": {},
   "outputs": [],
   "source": [
    "soup = BeautifulSoup(r.content)"
   ]
  },
  {
   "cell_type": "code",
   "execution_count": 5,
   "id": "cf7ef55c",
   "metadata": {},
   "outputs": [],
   "source": [
    "table = soup.find_all('table')"
   ]
  },
  {
   "cell_type": "code",
   "execution_count": 41,
   "id": "c75599c4",
   "metadata": {},
   "outputs": [
    {
     "data": {
      "text/html": [
       "<div>\n",
       "<style scoped>\n",
       "    .dataframe tbody tr th:only-of-type {\n",
       "        vertical-align: middle;\n",
       "    }\n",
       "\n",
       "    .dataframe tbody tr th {\n",
       "        vertical-align: top;\n",
       "    }\n",
       "\n",
       "    .dataframe thead th {\n",
       "        text-align: right;\n",
       "    }\n",
       "</style>\n",
       "<table border=\"1\" class=\"dataframe\">\n",
       "  <thead>\n",
       "    <tr style=\"text-align: right;\">\n",
       "      <th></th>\n",
       "      <th>Symbol</th>\n",
       "      <th>Description</th>\n",
       "      <th>Category2</th>\n",
       "      <th>Category3</th>\n",
       "      <th>GICS Sector</th>\n",
       "      <th>Market cap</th>\n",
       "      <th>Dividend yield</th>\n",
       "      <th>Price to TTM earnings</th>\n",
       "      <th>Price to TTM sales</th>\n",
       "      <th>Price to book value</th>\n",
       "      <th>Action</th>\n",
       "    </tr>\n",
       "  </thead>\n",
       "  <tbody>\n",
       "    <tr>\n",
       "      <th>0</th>\n",
       "      <td>A</td>\n",
       "      <td>Agilent Technologies Inc</td>\n",
       "      <td>Common stocks</td>\n",
       "      <td>Large cap</td>\n",
       "      <td>Health Care</td>\n",
       "      <td>$43,905,776,937</td>\n",
       "      <td>0.56%</td>\n",
       "      <td>35.96</td>\n",
       "      <td>6.81</td>\n",
       "      <td>8.41</td>\n",
       "      <td>Analyze</td>\n",
       "    </tr>\n",
       "    <tr>\n",
       "      <th>1</th>\n",
       "      <td>AAL</td>\n",
       "      <td>American Airlines Group Inc</td>\n",
       "      <td>Common stocks</td>\n",
       "      <td>Mid cap</td>\n",
       "      <td>Industrials</td>\n",
       "      <td>$9,670,525,199</td>\n",
       "      <td>0.00%</td>\n",
       "      <td>-4.07</td>\n",
       "      <td>0.28</td>\n",
       "      <td>-1.08</td>\n",
       "      <td>Analyze</td>\n",
       "    </tr>\n",
       "    <tr>\n",
       "      <th>2</th>\n",
       "      <td>AAP</td>\n",
       "      <td>Advance Auto Parts Inc</td>\n",
       "      <td>Common stocks</td>\n",
       "      <td>Large cap</td>\n",
       "      <td>Consumer Discretionary</td>\n",
       "      <td>$11,205,438,567</td>\n",
       "      <td>2.92%</td>\n",
       "      <td>17.93</td>\n",
       "      <td>1.02</td>\n",
       "      <td>3.53</td>\n",
       "      <td>Analyze</td>\n",
       "    </tr>\n",
       "    <tr>\n",
       "      <th>3</th>\n",
       "      <td>AAPL</td>\n",
       "      <td>Apple Inc</td>\n",
       "      <td>Common stocks</td>\n",
       "      <td>Large cap</td>\n",
       "      <td>Information Technology</td>\n",
       "      <td>$2,381,445,264,600</td>\n",
       "      <td>0.61%</td>\n",
       "      <td>23.36</td>\n",
       "      <td>6.17</td>\n",
       "      <td>35.33</td>\n",
       "      <td>Analyze</td>\n",
       "    </tr>\n",
       "    <tr>\n",
       "      <th>4</th>\n",
       "      <td>ABBV</td>\n",
       "      <td>Abbvie Inc</td>\n",
       "      <td>Common stocks</td>\n",
       "      <td>Large cap</td>\n",
       "      <td>Health Care</td>\n",
       "      <td>$265,555,033,081</td>\n",
       "      <td>3.70%</td>\n",
       "      <td>21.50</td>\n",
       "      <td>4.68</td>\n",
       "      <td>16.48</td>\n",
       "      <td>Analyze</td>\n",
       "    </tr>\n",
       "    <tr>\n",
       "      <th>...</th>\n",
       "      <td>...</td>\n",
       "      <td>...</td>\n",
       "      <td>...</td>\n",
       "      <td>...</td>\n",
       "      <td>...</td>\n",
       "      <td>...</td>\n",
       "      <td>...</td>\n",
       "      <td>...</td>\n",
       "      <td>...</td>\n",
       "      <td>...</td>\n",
       "      <td>...</td>\n",
       "    </tr>\n",
       "    <tr>\n",
       "      <th>499</th>\n",
       "      <td>ZBH</td>\n",
       "      <td>Zimmer Biomet Holdings Inc</td>\n",
       "      <td>Common stocks</td>\n",
       "      <td>Large cap</td>\n",
       "      <td>Health Care</td>\n",
       "      <td>$24,250,542,420</td>\n",
       "      <td>0.83%</td>\n",
       "      <td>59.21</td>\n",
       "      <td>3.17</td>\n",
       "      <td>1.98</td>\n",
       "      <td>Analyze</td>\n",
       "    </tr>\n",
       "    <tr>\n",
       "      <th>500</th>\n",
       "      <td>ZBRA</td>\n",
       "      <td>Zebra Technologies Corp</td>\n",
       "      <td>Common stocks</td>\n",
       "      <td>Large cap</td>\n",
       "      <td>Information Technology</td>\n",
       "      <td>$13,598,256,197</td>\n",
       "      <td>0.00%</td>\n",
       "      <td>15.95</td>\n",
       "      <td>2.38</td>\n",
       "      <td>4.47</td>\n",
       "      <td>Analyze</td>\n",
       "    </tr>\n",
       "    <tr>\n",
       "      <th>501</th>\n",
       "      <td>ZION</td>\n",
       "      <td>Zions Bancorporation</td>\n",
       "      <td>Common stocks</td>\n",
       "      <td>Mid cap</td>\n",
       "      <td>Financials</td>\n",
       "      <td>$8,287,327,394</td>\n",
       "      <td>2.82%</td>\n",
       "      <td>8.13</td>\n",
       "      <td>3.00</td>\n",
       "      <td>1.27</td>\n",
       "      <td>Analyze</td>\n",
       "    </tr>\n",
       "    <tr>\n",
       "      <th>502</th>\n",
       "      <td>ZTS</td>\n",
       "      <td>Zoetis Inc</td>\n",
       "      <td>Common stocks</td>\n",
       "      <td>Large cap</td>\n",
       "      <td>Health Care</td>\n",
       "      <td>$69,234,994,857</td>\n",
       "      <td>0.87%</td>\n",
       "      <td>32.93</td>\n",
       "      <td>8.77</td>\n",
       "      <td>14.65</td>\n",
       "      <td>Analyze</td>\n",
       "    </tr>\n",
       "    <tr>\n",
       "      <th>503</th>\n",
       "      <td>TOTAL</td>\n",
       "      <td>503</td>\n",
       "      <td>NaN</td>\n",
       "      <td>NaN</td>\n",
       "      <td>NaN</td>\n",
       "      <td>$36,558,625,800,480</td>\n",
       "      <td>1.50%</td>\n",
       "      <td>NaN</td>\n",
       "      <td>NaN</td>\n",
       "      <td>NaN</td>\n",
       "      <td>NaN</td>\n",
       "    </tr>\n",
       "  </tbody>\n",
       "</table>\n",
       "<p>504 rows × 11 columns</p>\n",
       "</div>"
      ],
      "text/plain": [
       "    Symbol                  Description      Category2  Category3  \\\n",
       "0        A     Agilent Technologies Inc  Common stocks  Large cap   \n",
       "1      AAL  American Airlines Group Inc  Common stocks    Mid cap   \n",
       "2      AAP       Advance Auto Parts Inc  Common stocks  Large cap   \n",
       "3     AAPL                    Apple Inc  Common stocks  Large cap   \n",
       "4     ABBV                   Abbvie Inc  Common stocks  Large cap   \n",
       "..     ...                          ...            ...        ...   \n",
       "499    ZBH   Zimmer Biomet Holdings Inc  Common stocks  Large cap   \n",
       "500   ZBRA      Zebra Technologies Corp  Common stocks  Large cap   \n",
       "501   ZION         Zions Bancorporation  Common stocks    Mid cap   \n",
       "502    ZTS                   Zoetis Inc  Common stocks  Large cap   \n",
       "503  TOTAL                          503            NaN        NaN   \n",
       "\n",
       "                GICS Sector           Market cap Dividend yield  \\\n",
       "0               Health Care      $43,905,776,937          0.56%   \n",
       "1               Industrials       $9,670,525,199          0.00%   \n",
       "2    Consumer Discretionary      $11,205,438,567          2.92%   \n",
       "3    Information Technology   $2,381,445,264,600          0.61%   \n",
       "4               Health Care     $265,555,033,081          3.70%   \n",
       "..                      ...                  ...            ...   \n",
       "499             Health Care      $24,250,542,420          0.83%   \n",
       "500  Information Technology      $13,598,256,197          0.00%   \n",
       "501              Financials       $8,287,327,394          2.82%   \n",
       "502             Health Care      $69,234,994,857          0.87%   \n",
       "503                     NaN  $36,558,625,800,480          1.50%   \n",
       "\n",
       "     Price to TTM earnings  Price to TTM sales  Price to book value   Action  \n",
       "0                    35.96                6.81                 8.41  Analyze  \n",
       "1                    -4.07                0.28                -1.08  Analyze  \n",
       "2                    17.93                1.02                 3.53  Analyze  \n",
       "3                    23.36                6.17                35.33  Analyze  \n",
       "4                    21.50                4.68                16.48  Analyze  \n",
       "..                     ...                 ...                  ...      ...  \n",
       "499                  59.21                3.17                 1.98  Analyze  \n",
       "500                  15.95                2.38                 4.47  Analyze  \n",
       "501                   8.13                3.00                 1.27  Analyze  \n",
       "502                  32.93                8.77                14.65  Analyze  \n",
       "503                    NaN                 NaN                  NaN      NaN  \n",
       "\n",
       "[504 rows x 11 columns]"
      ]
     },
     "execution_count": 41,
     "metadata": {},
     "output_type": "execute_result"
    }
   ],
   "source": [
    "df = pd.read_html(str(table))[0]\n",
    "df"
   ]
  },
  {
   "cell_type": "code",
   "execution_count": 42,
   "id": "51c4384a",
   "metadata": {},
   "outputs": [
    {
     "name": "stderr",
     "output_type": "stream",
     "text": [
      "/var/folders/1j/w25hhp1533z0g_xfs23lpb6c0000gn/T/ipykernel_21936/1515516107.py:3: FutureWarning: The default value of regex will change from True to False in a future version. In addition, single character regular expressions will *not* be treated as literal strings when regex=True.\n",
      "  df['Market cap'] = df['Market cap'].str.replace('$','')\n"
     ]
    },
    {
     "data": {
      "text/html": [
       "<div>\n",
       "<style scoped>\n",
       "    .dataframe tbody tr th:only-of-type {\n",
       "        vertical-align: middle;\n",
       "    }\n",
       "\n",
       "    .dataframe tbody tr th {\n",
       "        vertical-align: top;\n",
       "    }\n",
       "\n",
       "    .dataframe thead th {\n",
       "        text-align: right;\n",
       "    }\n",
       "</style>\n",
       "<table border=\"1\" class=\"dataframe\">\n",
       "  <thead>\n",
       "    <tr style=\"text-align: right;\">\n",
       "      <th></th>\n",
       "      <th>Symbol</th>\n",
       "      <th>Description</th>\n",
       "      <th>Category2</th>\n",
       "      <th>Category3</th>\n",
       "      <th>GICS Sector</th>\n",
       "      <th>Market cap</th>\n",
       "      <th>Dividend yield</th>\n",
       "      <th>Price to TTM earnings</th>\n",
       "      <th>Price to TTM sales</th>\n",
       "      <th>Price to book value</th>\n",
       "    </tr>\n",
       "  </thead>\n",
       "  <tbody>\n",
       "    <tr>\n",
       "      <th>0</th>\n",
       "      <td>A</td>\n",
       "      <td>Agilent Technologies Inc</td>\n",
       "      <td>Common stocks</td>\n",
       "      <td>Large cap</td>\n",
       "      <td>Health Care</td>\n",
       "      <td>43,905,776,937</td>\n",
       "      <td>0.56</td>\n",
       "      <td>35.96</td>\n",
       "      <td>6.81</td>\n",
       "      <td>8.41</td>\n",
       "    </tr>\n",
       "    <tr>\n",
       "      <th>1</th>\n",
       "      <td>AAL</td>\n",
       "      <td>American Airlines Group Inc</td>\n",
       "      <td>Common stocks</td>\n",
       "      <td>Mid cap</td>\n",
       "      <td>Industrials</td>\n",
       "      <td>9,670,525,199</td>\n",
       "      <td>0.00</td>\n",
       "      <td>-4.07</td>\n",
       "      <td>0.28</td>\n",
       "      <td>-1.08</td>\n",
       "    </tr>\n",
       "    <tr>\n",
       "      <th>2</th>\n",
       "      <td>AAP</td>\n",
       "      <td>Advance Auto Parts Inc</td>\n",
       "      <td>Common stocks</td>\n",
       "      <td>Large cap</td>\n",
       "      <td>Consumer Discretionary</td>\n",
       "      <td>11,205,438,567</td>\n",
       "      <td>2.92</td>\n",
       "      <td>17.93</td>\n",
       "      <td>1.02</td>\n",
       "      <td>3.53</td>\n",
       "    </tr>\n",
       "    <tr>\n",
       "      <th>3</th>\n",
       "      <td>AAPL</td>\n",
       "      <td>Apple Inc</td>\n",
       "      <td>Common stocks</td>\n",
       "      <td>Large cap</td>\n",
       "      <td>Information Technology</td>\n",
       "      <td>2,381,445,264,600</td>\n",
       "      <td>0.61</td>\n",
       "      <td>23.36</td>\n",
       "      <td>6.17</td>\n",
       "      <td>35.33</td>\n",
       "    </tr>\n",
       "    <tr>\n",
       "      <th>4</th>\n",
       "      <td>ABBV</td>\n",
       "      <td>Abbvie Inc</td>\n",
       "      <td>Common stocks</td>\n",
       "      <td>Large cap</td>\n",
       "      <td>Health Care</td>\n",
       "      <td>265,555,033,081</td>\n",
       "      <td>3.70</td>\n",
       "      <td>21.50</td>\n",
       "      <td>4.68</td>\n",
       "      <td>16.48</td>\n",
       "    </tr>\n",
       "  </tbody>\n",
       "</table>\n",
       "</div>"
      ],
      "text/plain": [
       "  Symbol                  Description      Category2  Category3  \\\n",
       "0      A     Agilent Technologies Inc  Common stocks  Large cap   \n",
       "1    AAL  American Airlines Group Inc  Common stocks    Mid cap   \n",
       "2    AAP       Advance Auto Parts Inc  Common stocks  Large cap   \n",
       "3   AAPL                    Apple Inc  Common stocks  Large cap   \n",
       "4   ABBV                   Abbvie Inc  Common stocks  Large cap   \n",
       "\n",
       "              GICS Sector         Market cap Dividend yield  \\\n",
       "0             Health Care     43,905,776,937           0.56   \n",
       "1             Industrials      9,670,525,199           0.00   \n",
       "2  Consumer Discretionary     11,205,438,567           2.92   \n",
       "3  Information Technology  2,381,445,264,600           0.61   \n",
       "4             Health Care    265,555,033,081           3.70   \n",
       "\n",
       "   Price to TTM earnings  Price to TTM sales  Price to book value  \n",
       "0                  35.96                6.81                 8.41  \n",
       "1                  -4.07                0.28                -1.08  \n",
       "2                  17.93                1.02                 3.53  \n",
       "3                  23.36                6.17                35.33  \n",
       "4                  21.50                4.68                16.48  "
      ]
     },
     "execution_count": 42,
     "metadata": {},
     "output_type": "execute_result"
    }
   ],
   "source": [
    "df = df.drop(['Action'], axis=1)\n",
    "df['Dividend yield'] = df['Dividend yield'].str.replace('%','')\n",
    "df['Market cap'] = df['Market cap'].str.replace('$','')\n",
    "df['GICS Sector'] = df['GICS Sector'].replace(['Information technology'], 'Information Technology')\n",
    "df.head()"
   ]
  },
  {
   "cell_type": "code",
   "execution_count": 43,
   "id": "42c3b518",
   "metadata": {},
   "outputs": [],
   "source": [
    "df['Dividend yield'] = df['Dividend yield'].astype('float')"
   ]
  },
  {
   "cell_type": "code",
   "execution_count": 44,
   "id": "fb20fd7a",
   "metadata": {},
   "outputs": [
    {
     "data": {
      "text/plain": [
       "Symbol                    object\n",
       "Description               object\n",
       "Category2                 object\n",
       "Category3                 object\n",
       "GICS Sector               object\n",
       "Market cap                object\n",
       "Dividend yield           float64\n",
       "Price to TTM earnings    float64\n",
       "Price to TTM sales       float64\n",
       "Price to book value      float64\n",
       "dtype: object"
      ]
     },
     "execution_count": 44,
     "metadata": {},
     "output_type": "execute_result"
    }
   ],
   "source": [
    "df.dtypes"
   ]
  },
  {
   "cell_type": "markdown",
   "id": "f341ecd5",
   "metadata": {},
   "source": [
    "#### 1. How many sectors are in the S&P 500 index and which sector has the most/least companies"
   ]
  },
  {
   "cell_type": "code",
   "execution_count": 45,
   "id": "911a83aa",
   "metadata": {},
   "outputs": [
    {
     "name": "stdout",
     "output_type": "stream",
     "text": [
      "Information Technology    75\n",
      "Industrials               71\n",
      "Financials                67\n",
      "Health Care               64\n",
      "Consumer Discretionary    56\n",
      "Consumer Staples          33\n",
      "Real Estate               31\n",
      "Utilities                 30\n",
      "Materials                 28\n",
      "Communication Services    25\n",
      "Energy                    23\n",
      "Name: GICS Sector, dtype: int64\n"
     ]
    }
   ],
   "source": [
    "print(df['GICS Sector'].value_counts())"
   ]
  },
  {
   "cell_type": "markdown",
   "id": "516c74b7",
   "metadata": {},
   "source": [
    "#### 1.1 Percentage of sticks per sector"
   ]
  },
  {
   "cell_type": "code",
   "execution_count": 35,
   "id": "aec93500",
   "metadata": {},
   "outputs": [
    {
     "name": "stdout",
     "output_type": "stream",
     "text": [
      "Information Technology    14.9\n",
      "Industrials               14.1\n",
      "Financials                13.3\n",
      "Health Care               12.7\n",
      "Consumer Discretionary    11.1\n",
      "Consumer Staples           6.6\n",
      "Real Estate                6.2\n",
      "Utilities                  6.0\n",
      "Materials                  5.6\n",
      "Communication Services     5.0\n",
      "Energy                     4.6\n",
      "Name: GICS Sector, dtype: float64\n"
     ]
    }
   ],
   "source": [
    "print(round(df['GICS Sector'].value_counts()/503*100, 1))"
   ]
  },
  {
   "cell_type": "code",
   "execution_count": 36,
   "id": "5dbcb55d",
   "metadata": {},
   "outputs": [
    {
     "data": {
      "text/plain": [
       "Category3  Category3\n",
       "Large cap  Large cap    460\n",
       "Mid cap    Mid cap       42\n",
       "Small cap  Small cap      1\n",
       "Name: Category3, dtype: int64"
      ]
     },
     "execution_count": 36,
     "metadata": {},
     "output_type": "execute_result"
    }
   ],
   "source": [
    "df.groupby(['Category3'])['Category3'].value_counts()"
   ]
  },
  {
   "cell_type": "markdown",
   "id": "98a38439",
   "metadata": {},
   "source": [
    "#### 2. Which sector has the highest mean of Dividend yield? "
   ]
  },
  {
   "cell_type": "code",
   "execution_count": 37,
   "id": "0c939b7e",
   "metadata": {},
   "outputs": [
    {
     "data": {
      "text/plain": [
       "Category3  GICS Sector           \n",
       "Large cap  Communication Services    1.508\n",
       "           Consumer Discretionary    1.124\n",
       "           Consumer Staples          2.477\n",
       "           Energy                    2.649\n",
       "           Financials                2.070\n",
       "           Health Care               0.946\n",
       "           Industrials               1.321\n",
       "           Information Technology    1.092\n",
       "           Materials                 2.174\n",
       "           Real Estate               3.254\n",
       "           Utilities                 2.944\n",
       "Mid cap    Communication Services    7.625\n",
       "           Consumer Discretionary    2.425\n",
       "           Financials                3.132\n",
       "           Health Care               1.506\n",
       "           Industrials               1.201\n",
       "           Information Technology    0.540\n",
       "           Materials                 2.140\n",
       "           Real Estate               5.475\n",
       "           Utilities                 5.810\n",
       "Small cap  Consumer Staples          2.820\n",
       "Name: Dividend yield, dtype: float64"
      ]
     },
     "execution_count": 37,
     "metadata": {},
     "output_type": "execute_result"
    }
   ],
   "source": [
    "round(df.groupby(['Category3','GICS Sector'])['Dividend yield'].mean(), 3)"
   ]
  },
  {
   "cell_type": "markdown",
   "id": "b49189d2",
   "metadata": {},
   "source": [
    "#### 3. Which companies meet all recommendations"
   ]
  },
  {
   "cell_type": "code",
   "execution_count": 21,
   "id": "1efb6373",
   "metadata": {},
   "outputs": [
    {
     "data": {
      "text/html": [
       "<div>\n",
       "<style scoped>\n",
       "    .dataframe tbody tr th:only-of-type {\n",
       "        vertical-align: middle;\n",
       "    }\n",
       "\n",
       "    .dataframe tbody tr th {\n",
       "        vertical-align: top;\n",
       "    }\n",
       "\n",
       "    .dataframe thead th {\n",
       "        text-align: right;\n",
       "    }\n",
       "</style>\n",
       "<table border=\"1\" class=\"dataframe\">\n",
       "  <thead>\n",
       "    <tr style=\"text-align: right;\">\n",
       "      <th></th>\n",
       "      <th>Symbol</th>\n",
       "      <th>Description</th>\n",
       "      <th>Category2</th>\n",
       "      <th>Category3</th>\n",
       "      <th>GICS Sector</th>\n",
       "      <th>Market cap</th>\n",
       "      <th>Dividend yield</th>\n",
       "      <th>Price to TTM earnings</th>\n",
       "      <th>Price to TTM sales</th>\n",
       "      <th>Price to book value</th>\n",
       "    </tr>\n",
       "  </thead>\n",
       "  <tbody>\n",
       "    <tr>\n",
       "      <th>144</th>\n",
       "      <td>DTE</td>\n",
       "      <td>DTE Energy</td>\n",
       "      <td>Common stocks</td>\n",
       "      <td>Large cap</td>\n",
       "      <td>Utilities</td>\n",
       "      <td>22,136,959,892</td>\n",
       "      <td>3.07</td>\n",
       "      <td>24.26</td>\n",
       "      <td>1.37</td>\n",
       "      <td>2.47</td>\n",
       "    </tr>\n",
       "    <tr>\n",
       "      <th>169</th>\n",
       "      <td>ETR</td>\n",
       "      <td>Entergy Corp</td>\n",
       "      <td>Common stocks</td>\n",
       "      <td>Large cap</td>\n",
       "      <td>Utilities</td>\n",
       "      <td>22,511,397,306</td>\n",
       "      <td>3.63</td>\n",
       "      <td>20.83</td>\n",
       "      <td>1.91</td>\n",
       "      <td>1.88</td>\n",
       "    </tr>\n",
       "    <tr>\n",
       "      <th>214</th>\n",
       "      <td>HAS</td>\n",
       "      <td>Hasbro Inc</td>\n",
       "      <td>Common stocks</td>\n",
       "      <td>Mid cap</td>\n",
       "      <td>Consumer Discretionary</td>\n",
       "      <td>8,757,791,112</td>\n",
       "      <td>4.32</td>\n",
       "      <td>23.44</td>\n",
       "      <td>1.35</td>\n",
       "      <td>2.88</td>\n",
       "    </tr>\n",
       "    <tr>\n",
       "      <th>292</th>\n",
       "      <td>MAS</td>\n",
       "      <td>Masco Corp</td>\n",
       "      <td>Common stocks</td>\n",
       "      <td>Large cap</td>\n",
       "      <td>Industrials</td>\n",
       "      <td>11,524,538,185</td>\n",
       "      <td>2.17</td>\n",
       "      <td>20.43</td>\n",
       "      <td>1.34</td>\n",
       "      <td>-30.22</td>\n",
       "    </tr>\n",
       "  </tbody>\n",
       "</table>\n",
       "</div>"
      ],
      "text/plain": [
       "    Symbol   Description      Category2  Category3             GICS Sector  \\\n",
       "144    DTE    DTE Energy  Common stocks  Large cap               Utilities   \n",
       "169    ETR  Entergy Corp  Common stocks  Large cap               Utilities   \n",
       "214    HAS    Hasbro Inc  Common stocks    Mid cap  Consumer Discretionary   \n",
       "292    MAS    Masco Corp  Common stocks  Large cap             Industrials   \n",
       "\n",
       "         Market cap  Dividend yield  Price to TTM earnings  \\\n",
       "144  22,136,959,892            3.07                  24.26   \n",
       "169  22,511,397,306            3.63                  20.83   \n",
       "214   8,757,791,112            4.32                  23.44   \n",
       "292  11,524,538,185            2.17                  20.43   \n",
       "\n",
       "     Price to TTM sales  Price to book value  \n",
       "144                1.37                 2.47  \n",
       "169                1.91                 1.88  \n",
       "214                1.35                 2.88  \n",
       "292                1.34               -30.22  "
      ]
     },
     "execution_count": 21,
     "metadata": {},
     "output_type": "execute_result"
    }
   ],
   "source": [
    "pe_ratio = df[(df['Price to TTM earnings'] >= 20) & \n",
    "              (df['Price to TTM earnings'] <= 25) &\n",
    "              (df['Price to TTM sales'] >= 1) & \n",
    "              (df['Price to TTM sales'] <= 2) &\n",
    "              (df['Price to book value'] < 3)]\n",
    "pe_ratio"
   ]
  },
  {
   "cell_type": "markdown",
   "id": "b9a0244e",
   "metadata": {},
   "source": [
    "#### 4. How do Dividend Yield, P/E ratio, P/S ratio and P/B ratio affect each other "
   ]
  },
  {
   "cell_type": "code",
   "execution_count": 22,
   "id": "90afed15",
   "metadata": {},
   "outputs": [
    {
     "name": "stderr",
     "output_type": "stream",
     "text": [
      "/var/folders/1j/w25hhp1533z0g_xfs23lpb6c0000gn/T/ipykernel_21936/4128643268.py:2: FutureWarning: The default value of regex will change from True to False in a future version. In addition, single character regular expressions will *not* be treated as literal strings when regex=True.\n",
      "  new_df['Market cap'] = new_df['Market cap'].str.replace('$','')\n"
     ]
    },
    {
     "data": {
      "text/html": [
       "<div>\n",
       "<style scoped>\n",
       "    .dataframe tbody tr th:only-of-type {\n",
       "        vertical-align: middle;\n",
       "    }\n",
       "\n",
       "    .dataframe tbody tr th {\n",
       "        vertical-align: top;\n",
       "    }\n",
       "\n",
       "    .dataframe thead th {\n",
       "        text-align: right;\n",
       "    }\n",
       "</style>\n",
       "<table border=\"1\" class=\"dataframe\">\n",
       "  <thead>\n",
       "    <tr style=\"text-align: right;\">\n",
       "      <th></th>\n",
       "      <th>Symbol</th>\n",
       "      <th>Description</th>\n",
       "      <th>Category2</th>\n",
       "      <th>Category3</th>\n",
       "      <th>GICS Sector</th>\n",
       "      <th>Market cap</th>\n",
       "      <th>Dividend yield</th>\n",
       "      <th>Price to TTM earnings</th>\n",
       "      <th>Price to TTM sales</th>\n",
       "      <th>Price to book value</th>\n",
       "    </tr>\n",
       "  </thead>\n",
       "  <tbody>\n",
       "    <tr>\n",
       "      <th>0</th>\n",
       "      <td>A</td>\n",
       "      <td>Agilent Technologies Inc</td>\n",
       "      <td>Common stocks</td>\n",
       "      <td>Large cap</td>\n",
       "      <td>Health Care</td>\n",
       "      <td>43,905,776,937</td>\n",
       "      <td>0.56</td>\n",
       "      <td>35.96</td>\n",
       "      <td>6.81</td>\n",
       "      <td>8.41</td>\n",
       "    </tr>\n",
       "    <tr>\n",
       "      <th>1</th>\n",
       "      <td>AAL</td>\n",
       "      <td>American Airlines Group Inc</td>\n",
       "      <td>Common stocks</td>\n",
       "      <td>Mid cap</td>\n",
       "      <td>Industrials</td>\n",
       "      <td>9,670,525,199</td>\n",
       "      <td>0.00</td>\n",
       "      <td>-4.07</td>\n",
       "      <td>0.28</td>\n",
       "      <td>-1.08</td>\n",
       "    </tr>\n",
       "    <tr>\n",
       "      <th>2</th>\n",
       "      <td>AAP</td>\n",
       "      <td>Advance Auto Parts Inc</td>\n",
       "      <td>Common stocks</td>\n",
       "      <td>Large cap</td>\n",
       "      <td>Consumer Discretionary</td>\n",
       "      <td>11,205,438,567</td>\n",
       "      <td>2.92</td>\n",
       "      <td>17.93</td>\n",
       "      <td>1.02</td>\n",
       "      <td>3.53</td>\n",
       "    </tr>\n",
       "    <tr>\n",
       "      <th>3</th>\n",
       "      <td>AAPL</td>\n",
       "      <td>Apple Inc</td>\n",
       "      <td>Common stocks</td>\n",
       "      <td>Large cap</td>\n",
       "      <td>Information Technology</td>\n",
       "      <td>2,381,445,264,600</td>\n",
       "      <td>0.61</td>\n",
       "      <td>23.36</td>\n",
       "      <td>6.17</td>\n",
       "      <td>35.33</td>\n",
       "    </tr>\n",
       "    <tr>\n",
       "      <th>4</th>\n",
       "      <td>ABBV</td>\n",
       "      <td>Abbvie Inc</td>\n",
       "      <td>Common stocks</td>\n",
       "      <td>Large cap</td>\n",
       "      <td>Health Care</td>\n",
       "      <td>265,555,033,081</td>\n",
       "      <td>3.70</td>\n",
       "      <td>21.50</td>\n",
       "      <td>4.68</td>\n",
       "      <td>16.48</td>\n",
       "    </tr>\n",
       "  </tbody>\n",
       "</table>\n",
       "</div>"
      ],
      "text/plain": [
       "  Symbol                  Description      Category2  Category3  \\\n",
       "0      A     Agilent Technologies Inc  Common stocks  Large cap   \n",
       "1    AAL  American Airlines Group Inc  Common stocks    Mid cap   \n",
       "2    AAP       Advance Auto Parts Inc  Common stocks  Large cap   \n",
       "3   AAPL                    Apple Inc  Common stocks  Large cap   \n",
       "4   ABBV                   Abbvie Inc  Common stocks  Large cap   \n",
       "\n",
       "              GICS Sector         Market cap  Dividend yield  \\\n",
       "0             Health Care     43,905,776,937            0.56   \n",
       "1             Industrials      9,670,525,199            0.00   \n",
       "2  Consumer Discretionary     11,205,438,567            2.92   \n",
       "3  Information Technology  2,381,445,264,600            0.61   \n",
       "4             Health Care    265,555,033,081            3.70   \n",
       "\n",
       "   Price to TTM earnings  Price to TTM sales  Price to book value  \n",
       "0                  35.96                6.81                 8.41  \n",
       "1                  -4.07                0.28                -1.08  \n",
       "2                  17.93                1.02                 3.53  \n",
       "3                  23.36                6.17                35.33  \n",
       "4                  21.50                4.68                16.48  "
      ]
     },
     "execution_count": 22,
     "metadata": {},
     "output_type": "execute_result"
    }
   ],
   "source": [
    "new_df = df\n",
    "new_df['Market cap'] = new_df['Market cap'].str.replace('$','')\n",
    "#new_df['Market cap'] = new_df['Market cap'].astype('float')\n",
    "new_df.head()"
   ]
  },
  {
   "cell_type": "code",
   "execution_count": 27,
   "id": "6496590e",
   "metadata": {},
   "outputs": [
    {
     "data": {
      "text/html": [
       "<div>\n",
       "<style scoped>\n",
       "    .dataframe tbody tr th:only-of-type {\n",
       "        vertical-align: middle;\n",
       "    }\n",
       "\n",
       "    .dataframe tbody tr th {\n",
       "        vertical-align: top;\n",
       "    }\n",
       "\n",
       "    .dataframe thead th {\n",
       "        text-align: right;\n",
       "    }\n",
       "</style>\n",
       "<table border=\"1\" class=\"dataframe\">\n",
       "  <thead>\n",
       "    <tr style=\"text-align: right;\">\n",
       "      <th></th>\n",
       "      <th>Market cap</th>\n",
       "      <th>Dividend yield</th>\n",
       "      <th>Price to TTM earnings</th>\n",
       "      <th>Price to TTM sales</th>\n",
       "      <th>Price to book value</th>\n",
       "    </tr>\n",
       "  </thead>\n",
       "  <tbody>\n",
       "    <tr>\n",
       "      <th>0</th>\n",
       "      <td>43,905,776,937</td>\n",
       "      <td>0.56</td>\n",
       "      <td>35.96</td>\n",
       "      <td>6.81</td>\n",
       "      <td>8.41</td>\n",
       "    </tr>\n",
       "    <tr>\n",
       "      <th>1</th>\n",
       "      <td>9,670,525,199</td>\n",
       "      <td>0.00</td>\n",
       "      <td>-4.07</td>\n",
       "      <td>0.28</td>\n",
       "      <td>-1.08</td>\n",
       "    </tr>\n",
       "    <tr>\n",
       "      <th>2</th>\n",
       "      <td>11,205,438,567</td>\n",
       "      <td>2.92</td>\n",
       "      <td>17.93</td>\n",
       "      <td>1.02</td>\n",
       "      <td>3.53</td>\n",
       "    </tr>\n",
       "    <tr>\n",
       "      <th>3</th>\n",
       "      <td>2,381,445,264,600</td>\n",
       "      <td>0.61</td>\n",
       "      <td>23.36</td>\n",
       "      <td>6.17</td>\n",
       "      <td>35.33</td>\n",
       "    </tr>\n",
       "    <tr>\n",
       "      <th>4</th>\n",
       "      <td>265,555,033,081</td>\n",
       "      <td>3.70</td>\n",
       "      <td>21.50</td>\n",
       "      <td>4.68</td>\n",
       "      <td>16.48</td>\n",
       "    </tr>\n",
       "  </tbody>\n",
       "</table>\n",
       "</div>"
      ],
      "text/plain": [
       "          Market cap  Dividend yield  Price to TTM earnings  \\\n",
       "0     43,905,776,937            0.56                  35.96   \n",
       "1      9,670,525,199            0.00                  -4.07   \n",
       "2     11,205,438,567            2.92                  17.93   \n",
       "3  2,381,445,264,600            0.61                  23.36   \n",
       "4    265,555,033,081            3.70                  21.50   \n",
       "\n",
       "   Price to TTM sales  Price to book value  \n",
       "0                6.81                 8.41  \n",
       "1                0.28                -1.08  \n",
       "2                1.02                 3.53  \n",
       "3                6.17                35.33  \n",
       "4                4.68                16.48  "
      ]
     },
     "execution_count": 27,
     "metadata": {},
     "output_type": "execute_result"
    }
   ],
   "source": [
    "data = new_df[['Market cap','Dividend yield','Price to TTM earnings', 'Price to TTM sales', 'Price to book value']]\n",
    "data.head()"
   ]
  },
  {
   "cell_type": "code",
   "execution_count": 38,
   "id": "dc57fb2c",
   "metadata": {},
   "outputs": [
    {
     "data": {
      "text/plain": [
       "<function matplotlib.pyplot.show(close=None, block=None)>"
      ]
     },
     "execution_count": 38,
     "metadata": {},
     "output_type": "execute_result"
    },
    {
     "data": {
      "image/png": "[encoded data removed]",
      "text/plain": [
       "<Figure size 432x288 with 2 Axes>"
      ]
     },
     "metadata": {
      "needs_background": "light"
     },
     "output_type": "display_data"
    }
   ],
   "source": [
    "sns.heatmap(data.corr(), annot = True)\n",
    "plt.title('Correlation between Dividend Yield and other factors')\n",
    "plt.show"
   ]
  },
  {
   "cell_type": "markdown",
   "id": "e2601f18",
   "metadata": {},
   "source": [
    "#### Relationship between Price to TTM earnings and Price to TTM sales "
   ]
  },
  {
   "cell_type": "code",
   "execution_count": 32,
   "id": "651459f2",
   "metadata": {},
   "outputs": [
    {
     "data": {
      "image/png": "[encoded data removed]",
      "text/plain": [
       "<Figure size 432x288 with 1 Axes>"
      ]
     },
     "metadata": {
      "needs_background": "light"
     },
     "output_type": "display_data"
    }
   ],
   "source": [
    "sns.regplot(data = df, x = 'Price to TTM sales', y = 'Price to TTM earnings')\n",
    "plt.title('Relationship between Price to TTM earnings and Price to TTM sales')\n",
    "plt.xlabel('P/S Ratio')\n",
    "plt.ylabel('P/E Ratio')\n",
    "plt.show()"
   ]
  },
  {
   "cell_type": "markdown",
   "id": "2ef24cc1",
   "metadata": {},
   "source": [
    "The biger companies' sales are the biger their earnings are. "
   ]
  },
  {
   "cell_type": "code",
   "execution_count": 40,
   "id": "692c5aad",
   "metadata": {},
   "outputs": [
    {
     "data": {
      "image/png": "[encoded data removed]",
      "text/plain": [
       "<Figure size 432x288 with 1 Axes>"
      ]
     },
     "metadata": {
      "needs_background": "light"
     },
     "output_type": "display_data"
    }
   ],
   "source": [
    "sns.regplot(data = df, x = 'Dividend yield', y = 'Price to TTM earnings')\n",
    "plt.ylabel('P/E Ratio')\n",
    "plt.title('Relationship between Dividend Yield and P/E Ratio')\n",
    "plt.show()"
   ]
  },
  {
   "cell_type": "markdown",
   "id": "7eac025c",
   "metadata": {},
   "source": [
    "The Plot above makes sense because mature and the most stables companies pay didvidends because they no longer invest all shareholders' money into growth, but pay dividends. These companies tend to have lower growth rate and lower P/E Ratio. Younger companies that focus on their growth, do not pay dividends because they reinvest the profits into their growth, which increases growth rate and PE/ Ratio."
   ]
  },
  {
   "cell_type": "code",
   "execution_count": null,
   "id": "c359a549",
   "metadata": {},
   "outputs": [],
   "source": []
  }
 ],
 "metadata": {
  "kernelspec": {
   "display_name": "Python 3 (ipykernel)",
   "language": "python",
   "name": "python3"
  },
  "language_info": {
   "codemirror_mode": {
    "name": "ipython",
    "version": 3
   },
   "file_extension": ".py",
   "mimetype": "text/x-python",
   "name": "python",
   "nbconvert_exporter": "python",
   "pygments_lexer": "ipython3",
   "version": "3.9.12"
  }
 },
 "nbformat": 4,
 "nbformat_minor": 5
}
