{
 "cells": [
  {
   "cell_type": "code",
   "execution_count": 1,
   "id": "63816b13",
   "metadata": {},
   "outputs": [],
   "source": [
    "import pandas as pd\n",
    "import numpy as np\n",
    "from bs4 import BeautifulSoup\n",
    "import requests\n",
    "import re\n",
    "from html5lib.html5parser import HTMLParser\n",
    "import lxml\n",
    "import matplotlib\n",
    "import matplotlib.pyplot as plt\n",
    "import seaborn as sns"
   ]
  },
  {
   "cell_type": "code",
   "execution_count": 2,
   "id": "20895c60",
   "metadata": {},
   "outputs": [],
   "source": [
    "url = 'https://stockmarketmba.com/stocksinthesp500.php'"
   ]
  },
  {
   "cell_type": "code",
   "execution_count": 3,
   "id": "b0ba682f",
   "metadata": {},
   "outputs": [
    {
     "data": {
      "text/plain": [
       "200"
      ]
     },
     "execution_count": 3,
     "metadata": {},
     "output_type": "execute_result"
    }
   ],
   "source": [
    "#Checking if website allows Scraping\n",
    "r = requests.get(url)\n",
    "r.status_code"
   ]
  },
  {
   "cell_type": "code",
   "execution_count": 4,
   "id": "2d6095c0",
   "metadata": {},
   "outputs": [],
   "source": [
    "soup = BeautifulSoup(r.content)"
   ]
  },
  {
   "cell_type": "code",
   "execution_count": 5,
   "id": "cf7ef55c",
   "metadata": {},
   "outputs": [],
   "source": [
    "table = soup.find_all('table')"
   ]
  },
  {
   "cell_type": "code",
   "execution_count": 6,
   "id": "c75599c4",
   "metadata": {},
   "outputs": [
    {
     "data": {
      "text/html": [
       "<div>\n",
       "<style scoped>\n",
       "    .dataframe tbody tr th:only-of-type {\n",
       "        vertical-align: middle;\n",
       "    }\n",
       "\n",
       "    .dataframe tbody tr th {\n",
       "        vertical-align: top;\n",
       "    }\n",
       "\n",
       "    .dataframe thead th {\n",
       "        text-align: right;\n",
       "    }\n",
       "</style>\n",
       "<table border=\"1\" class=\"dataframe\">\n",
       "  <thead>\n",
       "    <tr style=\"text-align: right;\">\n",
       "      <th></th>\n",
       "      <th>Symbol</th>\n",
       "      <th>Description</th>\n",
       "      <th>Category2</th>\n",
       "      <th>Category3</th>\n",
       "      <th>GICS Sector</th>\n",
       "      <th>Market cap</th>\n",
       "      <th>Dividend yield</th>\n",
       "      <th>Price to TTM earnings</th>\n",
       "      <th>Price to TTM sales</th>\n",
       "      <th>Price to book value</th>\n",
       "      <th>Action</th>\n",
       "    </tr>\n",
       "  </thead>\n",
       "  <tbody>\n",
       "    <tr>\n",
       "      <th>0</th>\n",
       "      <td>A</td>\n",
       "      <td>Agilent Technologies Inc</td>\n",
       "      <td>Common stocks</td>\n",
       "      <td>Large cap</td>\n",
       "      <td>Health Care</td>\n",
       "      <td>$43,814,004,360</td>\n",
       "      <td>0.57%</td>\n",
       "      <td>36.14</td>\n",
       "      <td>6.80</td>\n",
       "      <td>8.45</td>\n",
       "      <td>Analyze</td>\n",
       "    </tr>\n",
       "    <tr>\n",
       "      <th>1</th>\n",
       "      <td>AAL</td>\n",
       "      <td>American Airlines Group Inc</td>\n",
       "      <td>Common stocks</td>\n",
       "      <td>Mid cap</td>\n",
       "      <td>Industrials</td>\n",
       "      <td>$9,495,051,959</td>\n",
       "      <td>0.00%</td>\n",
       "      <td>-3.99</td>\n",
       "      <td>0.27</td>\n",
       "      <td>-1.06</td>\n",
       "      <td>Analyze</td>\n",
       "    </tr>\n",
       "    <tr>\n",
       "      <th>2</th>\n",
       "      <td>AAP</td>\n",
       "      <td>Advance Auto Parts Inc</td>\n",
       "      <td>Common stocks</td>\n",
       "      <td>Large cap</td>\n",
       "      <td>Consumer Discretionary</td>\n",
       "      <td>$11,058,148,882</td>\n",
       "      <td>2.96%</td>\n",
       "      <td>15.25</td>\n",
       "      <td>1.01</td>\n",
       "      <td>3.00</td>\n",
       "      <td>Analyze</td>\n",
       "    </tr>\n",
       "    <tr>\n",
       "      <th>3</th>\n",
       "      <td>AAPL</td>\n",
       "      <td>Apple Inc</td>\n",
       "      <td>Common stocks</td>\n",
       "      <td>Large cap</td>\n",
       "      <td>Information Technology</td>\n",
       "      <td>$2,386,854,024,720</td>\n",
       "      <td>0.61%</td>\n",
       "      <td>23.42</td>\n",
       "      <td>6.18</td>\n",
       "      <td>35.41</td>\n",
       "      <td>Analyze</td>\n",
       "    </tr>\n",
       "    <tr>\n",
       "      <th>4</th>\n",
       "      <td>ABBV</td>\n",
       "      <td>Abbvie Inc</td>\n",
       "      <td>Common stocks</td>\n",
       "      <td>Large cap</td>\n",
       "      <td>Health Care</td>\n",
       "      <td>$270,648,256,944</td>\n",
       "      <td>3.63%</td>\n",
       "      <td>21.52</td>\n",
       "      <td>4.77</td>\n",
       "      <td>16.49</td>\n",
       "      <td>Analyze</td>\n",
       "    </tr>\n",
       "    <tr>\n",
       "      <th>...</th>\n",
       "      <td>...</td>\n",
       "      <td>...</td>\n",
       "      <td>...</td>\n",
       "      <td>...</td>\n",
       "      <td>...</td>\n",
       "      <td>...</td>\n",
       "      <td>...</td>\n",
       "      <td>...</td>\n",
       "      <td>...</td>\n",
       "      <td>...</td>\n",
       "      <td>...</td>\n",
       "    </tr>\n",
       "    <tr>\n",
       "      <th>499</th>\n",
       "      <td>ZBH</td>\n",
       "      <td>Zimmer Biomet Holdings Inc</td>\n",
       "      <td>Common stocks</td>\n",
       "      <td>Large cap</td>\n",
       "      <td>Health Care</td>\n",
       "      <td>$24,158,207,367</td>\n",
       "      <td>0.83%</td>\n",
       "      <td>59.81</td>\n",
       "      <td>3.16</td>\n",
       "      <td>2.00</td>\n",
       "      <td>Analyze</td>\n",
       "    </tr>\n",
       "    <tr>\n",
       "      <th>500</th>\n",
       "      <td>ZBRA</td>\n",
       "      <td>Zebra Technologies Corp</td>\n",
       "      <td>Common stocks</td>\n",
       "      <td>Large cap</td>\n",
       "      <td>Information Technology</td>\n",
       "      <td>$13,505,838,859</td>\n",
       "      <td>0.00%</td>\n",
       "      <td>16.39</td>\n",
       "      <td>2.36</td>\n",
       "      <td>4.59</td>\n",
       "      <td>Analyze</td>\n",
       "    </tr>\n",
       "    <tr>\n",
       "      <th>501</th>\n",
       "      <td>ZION</td>\n",
       "      <td>Zions Bancorporation</td>\n",
       "      <td>Common stocks</td>\n",
       "      <td>Mid cap</td>\n",
       "      <td>Financials</td>\n",
       "      <td>$7,947,695,092</td>\n",
       "      <td>2.94%</td>\n",
       "      <td>7.91</td>\n",
       "      <td>2.88</td>\n",
       "      <td>1.23</td>\n",
       "      <td>Analyze</td>\n",
       "    </tr>\n",
       "    <tr>\n",
       "      <th>502</th>\n",
       "      <td>ZTS</td>\n",
       "      <td>Zoetis Inc</td>\n",
       "      <td>Common stocks</td>\n",
       "      <td>Large cap</td>\n",
       "      <td>Health Care</td>\n",
       "      <td>$69,826,906,291</td>\n",
       "      <td>0.87%</td>\n",
       "      <td>33.34</td>\n",
       "      <td>8.85</td>\n",
       "      <td>14.84</td>\n",
       "      <td>Analyze</td>\n",
       "    </tr>\n",
       "    <tr>\n",
       "      <th>503</th>\n",
       "      <td>TOTAL</td>\n",
       "      <td>503</td>\n",
       "      <td>NaN</td>\n",
       "      <td>NaN</td>\n",
       "      <td>NaN</td>\n",
       "      <td>$36,571,783,801,089</td>\n",
       "      <td>1.52%</td>\n",
       "      <td>NaN</td>\n",
       "      <td>NaN</td>\n",
       "      <td>NaN</td>\n",
       "      <td>NaN</td>\n",
       "    </tr>\n",
       "  </tbody>\n",
       "</table>\n",
       "<p>504 rows × 11 columns</p>\n",
       "</div>"
      ],
      "text/plain": [
       "    Symbol                  Description      Category2  Category3  \\\n",
       "0        A     Agilent Technologies Inc  Common stocks  Large cap   \n",
       "1      AAL  American Airlines Group Inc  Common stocks    Mid cap   \n",
       "2      AAP       Advance Auto Parts Inc  Common stocks  Large cap   \n",
       "3     AAPL                    Apple Inc  Common stocks  Large cap   \n",
       "4     ABBV                   Abbvie Inc  Common stocks  Large cap   \n",
       "..     ...                          ...            ...        ...   \n",
       "499    ZBH   Zimmer Biomet Holdings Inc  Common stocks  Large cap   \n",
       "500   ZBRA      Zebra Technologies Corp  Common stocks  Large cap   \n",
       "501   ZION         Zions Bancorporation  Common stocks    Mid cap   \n",
       "502    ZTS                   Zoetis Inc  Common stocks  Large cap   \n",
       "503  TOTAL                          503            NaN        NaN   \n",
       "\n",
       "                GICS Sector           Market cap Dividend yield  \\\n",
       "0               Health Care      $43,814,004,360          0.57%   \n",
       "1               Industrials       $9,495,051,959          0.00%   \n",
       "2    Consumer Discretionary      $11,058,148,882          2.96%   \n",
       "3    Information Technology   $2,386,854,024,720          0.61%   \n",
       "4               Health Care     $270,648,256,944          3.63%   \n",
       "..                      ...                  ...            ...   \n",
       "499             Health Care      $24,158,207,367          0.83%   \n",
       "500  Information Technology      $13,505,838,859          0.00%   \n",
       "501              Financials       $7,947,695,092          2.94%   \n",
       "502             Health Care      $69,826,906,291          0.87%   \n",
       "503                     NaN  $36,571,783,801,089          1.52%   \n",
       "\n",
       "     Price to TTM earnings  Price to TTM sales  Price to book value   Action  \n",
       "0                    36.14                6.80                 8.45  Analyze  \n",
       "1                    -3.99                0.27                -1.06  Analyze  \n",
       "2                    15.25                1.01                 3.00  Analyze  \n",
       "3                    23.42                6.18                35.41  Analyze  \n",
       "4                    21.52                4.77                16.49  Analyze  \n",
       "..                     ...                 ...                  ...      ...  \n",
       "499                  59.81                3.16                 2.00  Analyze  \n",
       "500                  16.39                2.36                 4.59  Analyze  \n",
       "501                   7.91                2.88                 1.23  Analyze  \n",
       "502                  33.34                8.85                14.84  Analyze  \n",
       "503                    NaN                 NaN                  NaN      NaN  \n",
       "\n",
       "[504 rows x 11 columns]"
      ]
     },
     "execution_count": 6,
     "metadata": {},
     "output_type": "execute_result"
    }
   ],
   "source": [
    "df = pd.read_html(str(table))[0]\n",
    "df"
   ]
  },
  {
   "cell_type": "code",
   "execution_count": 7,
   "id": "51c4384a",
   "metadata": {},
   "outputs": [
    {
     "name": "stderr",
     "output_type": "stream",
     "text": [
      "/var/folders/1j/w25hhp1533z0g_xfs23lpb6c0000gn/T/ipykernel_25380/1515516107.py:3: FutureWarning: The default value of regex will change from True to False in a future version. In addition, single character regular expressions will *not* be treated as literal strings when regex=True.\n",
      "  df['Market cap'] = df['Market cap'].str.replace('$','')\n"
     ]
    },
    {
     "data": {
      "text/html": [
       "<div>\n",
       "<style scoped>\n",
       "    .dataframe tbody tr th:only-of-type {\n",
       "        vertical-align: middle;\n",
       "    }\n",
       "\n",
       "    .dataframe tbody tr th {\n",
       "        vertical-align: top;\n",
       "    }\n",
       "\n",
       "    .dataframe thead th {\n",
       "        text-align: right;\n",
       "    }\n",
       "</style>\n",
       "<table border=\"1\" class=\"dataframe\">\n",
       "  <thead>\n",
       "    <tr style=\"text-align: right;\">\n",
       "      <th></th>\n",
       "      <th>Symbol</th>\n",
       "      <th>Description</th>\n",
       "      <th>Category2</th>\n",
       "      <th>Category3</th>\n",
       "      <th>GICS Sector</th>\n",
       "      <th>Market cap</th>\n",
       "      <th>Dividend yield</th>\n",
       "      <th>Price to TTM earnings</th>\n",
       "      <th>Price to TTM sales</th>\n",
       "      <th>Price to book value</th>\n",
       "    </tr>\n",
       "  </thead>\n",
       "  <tbody>\n",
       "    <tr>\n",
       "      <th>0</th>\n",
       "      <td>A</td>\n",
       "      <td>Agilent Technologies Inc</td>\n",
       "      <td>Common stocks</td>\n",
       "      <td>Large cap</td>\n",
       "      <td>Health Care</td>\n",
       "      <td>43,814,004,360</td>\n",
       "      <td>0.57</td>\n",
       "      <td>36.14</td>\n",
       "      <td>6.80</td>\n",
       "      <td>8.45</td>\n",
       "    </tr>\n",
       "    <tr>\n",
       "      <th>1</th>\n",
       "      <td>AAL</td>\n",
       "      <td>American Airlines Group Inc</td>\n",
       "      <td>Common stocks</td>\n",
       "      <td>Mid cap</td>\n",
       "      <td>Industrials</td>\n",
       "      <td>9,495,051,959</td>\n",
       "      <td>0.00</td>\n",
       "      <td>-3.99</td>\n",
       "      <td>0.27</td>\n",
       "      <td>-1.06</td>\n",
       "    </tr>\n",
       "    <tr>\n",
       "      <th>2</th>\n",
       "      <td>AAP</td>\n",
       "      <td>Advance Auto Parts Inc</td>\n",
       "      <td>Common stocks</td>\n",
       "      <td>Large cap</td>\n",
       "      <td>Consumer Discretionary</td>\n",
       "      <td>11,058,148,882</td>\n",
       "      <td>2.96</td>\n",
       "      <td>15.25</td>\n",
       "      <td>1.01</td>\n",
       "      <td>3.00</td>\n",
       "    </tr>\n",
       "    <tr>\n",
       "      <th>3</th>\n",
       "      <td>AAPL</td>\n",
       "      <td>Apple Inc</td>\n",
       "      <td>Common stocks</td>\n",
       "      <td>Large cap</td>\n",
       "      <td>Information Technology</td>\n",
       "      <td>2,386,854,024,720</td>\n",
       "      <td>0.61</td>\n",
       "      <td>23.42</td>\n",
       "      <td>6.18</td>\n",
       "      <td>35.41</td>\n",
       "    </tr>\n",
       "    <tr>\n",
       "      <th>4</th>\n",
       "      <td>ABBV</td>\n",
       "      <td>Abbvie Inc</td>\n",
       "      <td>Common stocks</td>\n",
       "      <td>Large cap</td>\n",
       "      <td>Health Care</td>\n",
       "      <td>270,648,256,944</td>\n",
       "      <td>3.63</td>\n",
       "      <td>21.52</td>\n",
       "      <td>4.77</td>\n",
       "      <td>16.49</td>\n",
       "    </tr>\n",
       "  </tbody>\n",
       "</table>\n",
       "</div>"
      ],
      "text/plain": [
       "  Symbol                  Description      Category2  Category3  \\\n",
       "0      A     Agilent Technologies Inc  Common stocks  Large cap   \n",
       "1    AAL  American Airlines Group Inc  Common stocks    Mid cap   \n",
       "2    AAP       Advance Auto Parts Inc  Common stocks  Large cap   \n",
       "3   AAPL                    Apple Inc  Common stocks  Large cap   \n",
       "4   ABBV                   Abbvie Inc  Common stocks  Large cap   \n",
       "\n",
       "              GICS Sector         Market cap Dividend yield  \\\n",
       "0             Health Care     43,814,004,360           0.57   \n",
       "1             Industrials      9,495,051,959           0.00   \n",
       "2  Consumer Discretionary     11,058,148,882           2.96   \n",
       "3  Information Technology  2,386,854,024,720           0.61   \n",
       "4             Health Care    270,648,256,944           3.63   \n",
       "\n",
       "   Price to TTM earnings  Price to TTM sales  Price to book value  \n",
       "0                  36.14                6.80                 8.45  \n",
       "1                  -3.99                0.27                -1.06  \n",
       "2                  15.25                1.01                 3.00  \n",
       "3                  23.42                6.18                35.41  \n",
       "4                  21.52                4.77                16.49  "
      ]
     },
     "execution_count": 7,
     "metadata": {},
     "output_type": "execute_result"
    }
   ],
   "source": [
    "df = df.drop(['Action'], axis=1)\n",
    "df['Dividend yield'] = df['Dividend yield'].str.replace('%','')\n",
    "df['Market cap'] = df['Market cap'].str.replace('$','')\n",
    "df['GICS Sector'] = df['GICS Sector'].replace(['Information technology'], 'Information Technology')\n",
    "df.head()"
   ]
  },
  {
   "cell_type": "code",
   "execution_count": 9,
   "id": "42c3b518",
   "metadata": {},
   "outputs": [],
   "source": [
    "#Converting Dividend yield type from object to float\n",
    "df['Dividend yield'] = df['Dividend yield'].astype('float')"
   ]
  },
  {
   "cell_type": "code",
   "execution_count": 10,
   "id": "fb20fd7a",
   "metadata": {},
   "outputs": [
    {
     "data": {
      "text/plain": [
       "Symbol                    object\n",
       "Description               object\n",
       "Category2                 object\n",
       "Category3                 object\n",
       "GICS Sector               object\n",
       "Market cap                object\n",
       "Dividend yield           float64\n",
       "Price to TTM earnings    float64\n",
       "Price to TTM sales       float64\n",
       "Price to book value      float64\n",
       "dtype: object"
      ]
     },
     "execution_count": 10,
     "metadata": {},
     "output_type": "execute_result"
    }
   ],
   "source": [
    "df.dtypes"
   ]
  },
  {
   "cell_type": "markdown",
   "id": "f341ecd5",
   "metadata": {},
   "source": [
    "#### 1. How many sectors are in the S&P 500 index and which sector has the most/least companies"
   ]
  },
  {
   "cell_type": "code",
   "execution_count": 11,
   "id": "911a83aa",
   "metadata": {},
   "outputs": [
    {
     "name": "stdout",
     "output_type": "stream",
     "text": [
      "Information Technology    75\n",
      "Industrials               71\n",
      "Financials                67\n",
      "Health Care               64\n",
      "Consumer Discretionary    56\n",
      "Consumer Staples          33\n",
      "Real Estate               31\n",
      "Utilities                 30\n",
      "Materials                 28\n",
      "Communication Services    25\n",
      "Energy                    23\n",
      "Name: GICS Sector, dtype: int64\n"
     ]
    }
   ],
   "source": [
    "print(df['GICS Sector'].value_counts())"
   ]
  },
  {
   "cell_type": "markdown",
   "id": "516c74b7",
   "metadata": {},
   "source": [
    "#### 1.1 Percentage of sticks per sector"
   ]
  },
  {
   "cell_type": "code",
   "execution_count": 12,
   "id": "aec93500",
   "metadata": {},
   "outputs": [
    {
     "name": "stdout",
     "output_type": "stream",
     "text": [
      "Information Technology    14.9\n",
      "Industrials               14.1\n",
      "Financials                13.3\n",
      "Health Care               12.7\n",
      "Consumer Discretionary    11.1\n",
      "Consumer Staples           6.6\n",
      "Real Estate                6.2\n",
      "Utilities                  6.0\n",
      "Materials                  5.6\n",
      "Communication Services     5.0\n",
      "Energy                     4.6\n",
      "Name: GICS Sector, dtype: float64\n"
     ]
    }
   ],
   "source": [
    "print(round(df['GICS Sector'].value_counts()/503*100, 1))"
   ]
  },
  {
   "cell_type": "code",
   "execution_count": 14,
   "id": "5dbcb55d",
   "metadata": {},
   "outputs": [
    {
     "data": {
      "text/plain": [
       "Category3  Category3\n",
       "Large cap  Large cap    461\n",
       "Mid cap    Mid cap       41\n",
       "Small cap  Small cap      1\n",
       "Name: Category3, dtype: int64"
      ]
     },
     "execution_count": 14,
     "metadata": {},
     "output_type": "execute_result"
    }
   ],
   "source": [
    "#Check how many companies are in each cap\n",
    "df.groupby(['Category3'])['Category3'].value_counts()"
   ]
  },
  {
   "cell_type": "markdown",
   "id": "98a38439",
   "metadata": {},
   "source": [
    "#### 2. Which sector has the highest mean of Dividend yield? "
   ]
  },
  {
   "cell_type": "code",
   "execution_count": 15,
   "id": "0c939b7e",
   "metadata": {},
   "outputs": [
    {
     "data": {
      "text/plain": [
       "Category3  GICS Sector           \n",
       "Large cap  Communication Services    1.503\n",
       "           Consumer Discretionary    1.182\n",
       "           Consumer Staples          2.551\n",
       "           Energy                    2.674\n",
       "           Financials                2.126\n",
       "           Health Care               0.945\n",
       "           Industrials               1.323\n",
       "           Information Technology    1.061\n",
       "           Materials                 2.263\n",
       "           Real Estate               3.290\n",
       "           Utilities                 2.989\n",
       "Mid cap    Communication Services    7.950\n",
       "           Consumer Discretionary    2.467\n",
       "           Financials                2.890\n",
       "           Health Care               1.526\n",
       "           Industrials               1.212\n",
       "           Information Technology    0.903\n",
       "           Materials                 2.180\n",
       "           Real Estate               5.580\n",
       "           Utilities                 4.540\n",
       "Small cap  Consumer Staples          2.810\n",
       "Name: Dividend yield, dtype: float64"
      ]
     },
     "execution_count": 15,
     "metadata": {},
     "output_type": "execute_result"
    }
   ],
   "source": [
    "round(df.groupby(['Category3','GICS Sector'])['Dividend yield'].mean(), 3)"
   ]
  },
  {
   "cell_type": "markdown",
   "id": "b49189d2",
   "metadata": {},
   "source": [
    "#### 3. Which companies meet all recommendations"
   ]
  },
  {
   "cell_type": "code",
   "execution_count": 16,
   "id": "1efb6373",
   "metadata": {},
   "outputs": [
    {
     "data": {
      "text/html": [
       "<div>\n",
       "<style scoped>\n",
       "    .dataframe tbody tr th:only-of-type {\n",
       "        vertical-align: middle;\n",
       "    }\n",
       "\n",
       "    .dataframe tbody tr th {\n",
       "        vertical-align: top;\n",
       "    }\n",
       "\n",
       "    .dataframe thead th {\n",
       "        text-align: right;\n",
       "    }\n",
       "</style>\n",
       "<table border=\"1\" class=\"dataframe\">\n",
       "  <thead>\n",
       "    <tr style=\"text-align: right;\">\n",
       "      <th></th>\n",
       "      <th>Symbol</th>\n",
       "      <th>Description</th>\n",
       "      <th>Category2</th>\n",
       "      <th>Category3</th>\n",
       "      <th>GICS Sector</th>\n",
       "      <th>Market cap</th>\n",
       "      <th>Dividend yield</th>\n",
       "      <th>Price to TTM earnings</th>\n",
       "      <th>Price to TTM sales</th>\n",
       "      <th>Price to book value</th>\n",
       "    </tr>\n",
       "  </thead>\n",
       "  <tbody>\n",
       "    <tr>\n",
       "      <th>144</th>\n",
       "      <td>DTE</td>\n",
       "      <td>DTE Energy</td>\n",
       "      <td>Common stocks</td>\n",
       "      <td>Large cap</td>\n",
       "      <td>Utilities</td>\n",
       "      <td>22,179,583,130</td>\n",
       "      <td>3.06</td>\n",
       "      <td>24.71</td>\n",
       "      <td>1.37</td>\n",
       "      <td>2.52</td>\n",
       "    </tr>\n",
       "    <tr>\n",
       "      <th>169</th>\n",
       "      <td>ETR</td>\n",
       "      <td>Entergy Corp</td>\n",
       "      <td>Common stocks</td>\n",
       "      <td>Large cap</td>\n",
       "      <td>Utilities</td>\n",
       "      <td>22,287,565,280</td>\n",
       "      <td>3.66</td>\n",
       "      <td>21.13</td>\n",
       "      <td>1.89</td>\n",
       "      <td>1.90</td>\n",
       "    </tr>\n",
       "    <tr>\n",
       "      <th>214</th>\n",
       "      <td>HAS</td>\n",
       "      <td>Hasbro Inc</td>\n",
       "      <td>Common stocks</td>\n",
       "      <td>Mid cap</td>\n",
       "      <td>Consumer Discretionary</td>\n",
       "      <td>8,108,656,619</td>\n",
       "      <td>4.67</td>\n",
       "      <td>21.70</td>\n",
       "      <td>1.25</td>\n",
       "      <td>2.66</td>\n",
       "    </tr>\n",
       "    <tr>\n",
       "      <th>292</th>\n",
       "      <td>MAS</td>\n",
       "      <td>Masco Corp</td>\n",
       "      <td>Common stocks</td>\n",
       "      <td>Large cap</td>\n",
       "      <td>Industrials</td>\n",
       "      <td>11,488,453,526</td>\n",
       "      <td>2.18</td>\n",
       "      <td>20.68</td>\n",
       "      <td>1.33</td>\n",
       "      <td>-30.60</td>\n",
       "    </tr>\n",
       "  </tbody>\n",
       "</table>\n",
       "</div>"
      ],
      "text/plain": [
       "    Symbol   Description      Category2  Category3             GICS Sector  \\\n",
       "144    DTE    DTE Energy  Common stocks  Large cap               Utilities   \n",
       "169    ETR  Entergy Corp  Common stocks  Large cap               Utilities   \n",
       "214    HAS    Hasbro Inc  Common stocks    Mid cap  Consumer Discretionary   \n",
       "292    MAS    Masco Corp  Common stocks  Large cap             Industrials   \n",
       "\n",
       "         Market cap  Dividend yield  Price to TTM earnings  \\\n",
       "144  22,179,583,130            3.06                  24.71   \n",
       "169  22,287,565,280            3.66                  21.13   \n",
       "214   8,108,656,619            4.67                  21.70   \n",
       "292  11,488,453,526            2.18                  20.68   \n",
       "\n",
       "     Price to TTM sales  Price to book value  \n",
       "144                1.37                 2.52  \n",
       "169                1.89                 1.90  \n",
       "214                1.25                 2.66  \n",
       "292                1.33               -30.60  "
      ]
     },
     "execution_count": 16,
     "metadata": {},
     "output_type": "execute_result"
    }
   ],
   "source": [
    "pe_ratio = df[(df['Price to TTM earnings'] >= 20) & \n",
    "              (df['Price to TTM earnings'] <= 25) &\n",
    "              (df['Price to TTM sales'] >= 1) & \n",
    "              (df['Price to TTM sales'] <= 2) &\n",
    "              (df['Price to book value'] < 3)]\n",
    "pe_ratio"
   ]
  },
  {
   "cell_type": "markdown",
   "id": "b9a0244e",
   "metadata": {},
   "source": [
    "#### 4. How do Dividend Yield, P/E ratio, P/S ratio and P/B ratio affect each other "
   ]
  },
  {
   "cell_type": "code",
   "execution_count": 18,
   "id": "90afed15",
   "metadata": {},
   "outputs": [
    {
     "name": "stderr",
     "output_type": "stream",
     "text": [
      "/var/folders/1j/w25hhp1533z0g_xfs23lpb6c0000gn/T/ipykernel_25380/2729666682.py:2: FutureWarning: The default value of regex will change from True to False in a future version. In addition, single character regular expressions will *not* be treated as literal strings when regex=True.\n",
      "  new_df['Market cap'] = new_df['Market cap'].str.replace('$','')\n"
     ]
    },
    {
     "data": {
      "text/html": [
       "<div>\n",
       "<style scoped>\n",
       "    .dataframe tbody tr th:only-of-type {\n",
       "        vertical-align: middle;\n",
       "    }\n",
       "\n",
       "    .dataframe tbody tr th {\n",
       "        vertical-align: top;\n",
       "    }\n",
       "\n",
       "    .dataframe thead th {\n",
       "        text-align: right;\n",
       "    }\n",
       "</style>\n",
       "<table border=\"1\" class=\"dataframe\">\n",
       "  <thead>\n",
       "    <tr style=\"text-align: right;\">\n",
       "      <th></th>\n",
       "      <th>Symbol</th>\n",
       "      <th>Description</th>\n",
       "      <th>Category2</th>\n",
       "      <th>Category3</th>\n",
       "      <th>GICS Sector</th>\n",
       "      <th>Market cap</th>\n",
       "      <th>Dividend yield</th>\n",
       "      <th>Price to TTM earnings</th>\n",
       "      <th>Price to TTM sales</th>\n",
       "      <th>Price to book value</th>\n",
       "    </tr>\n",
       "  </thead>\n",
       "  <tbody>\n",
       "    <tr>\n",
       "      <th>0</th>\n",
       "      <td>A</td>\n",
       "      <td>Agilent Technologies Inc</td>\n",
       "      <td>Common stocks</td>\n",
       "      <td>Large cap</td>\n",
       "      <td>Health Care</td>\n",
       "      <td>43,814,004,360</td>\n",
       "      <td>0.57</td>\n",
       "      <td>36.14</td>\n",
       "      <td>6.80</td>\n",
       "      <td>8.45</td>\n",
       "    </tr>\n",
       "    <tr>\n",
       "      <th>1</th>\n",
       "      <td>AAL</td>\n",
       "      <td>American Airlines Group Inc</td>\n",
       "      <td>Common stocks</td>\n",
       "      <td>Mid cap</td>\n",
       "      <td>Industrials</td>\n",
       "      <td>9,495,051,959</td>\n",
       "      <td>0.00</td>\n",
       "      <td>-3.99</td>\n",
       "      <td>0.27</td>\n",
       "      <td>-1.06</td>\n",
       "    </tr>\n",
       "    <tr>\n",
       "      <th>2</th>\n",
       "      <td>AAP</td>\n",
       "      <td>Advance Auto Parts Inc</td>\n",
       "      <td>Common stocks</td>\n",
       "      <td>Large cap</td>\n",
       "      <td>Consumer Discretionary</td>\n",
       "      <td>11,058,148,882</td>\n",
       "      <td>2.96</td>\n",
       "      <td>15.25</td>\n",
       "      <td>1.01</td>\n",
       "      <td>3.00</td>\n",
       "    </tr>\n",
       "    <tr>\n",
       "      <th>3</th>\n",
       "      <td>AAPL</td>\n",
       "      <td>Apple Inc</td>\n",
       "      <td>Common stocks</td>\n",
       "      <td>Large cap</td>\n",
       "      <td>Information Technology</td>\n",
       "      <td>2,386,854,024,720</td>\n",
       "      <td>0.61</td>\n",
       "      <td>23.42</td>\n",
       "      <td>6.18</td>\n",
       "      <td>35.41</td>\n",
       "    </tr>\n",
       "    <tr>\n",
       "      <th>4</th>\n",
       "      <td>ABBV</td>\n",
       "      <td>Abbvie Inc</td>\n",
       "      <td>Common stocks</td>\n",
       "      <td>Large cap</td>\n",
       "      <td>Health Care</td>\n",
       "      <td>270,648,256,944</td>\n",
       "      <td>3.63</td>\n",
       "      <td>21.52</td>\n",
       "      <td>4.77</td>\n",
       "      <td>16.49</td>\n",
       "    </tr>\n",
       "  </tbody>\n",
       "</table>\n",
       "</div>"
      ],
      "text/plain": [
       "  Symbol                  Description      Category2  Category3  \\\n",
       "0      A     Agilent Technologies Inc  Common stocks  Large cap   \n",
       "1    AAL  American Airlines Group Inc  Common stocks    Mid cap   \n",
       "2    AAP       Advance Auto Parts Inc  Common stocks  Large cap   \n",
       "3   AAPL                    Apple Inc  Common stocks  Large cap   \n",
       "4   ABBV                   Abbvie Inc  Common stocks  Large cap   \n",
       "\n",
       "              GICS Sector         Market cap  Dividend yield  \\\n",
       "0             Health Care     43,814,004,360            0.57   \n",
       "1             Industrials      9,495,051,959            0.00   \n",
       "2  Consumer Discretionary     11,058,148,882            2.96   \n",
       "3  Information Technology  2,386,854,024,720            0.61   \n",
       "4             Health Care    270,648,256,944            3.63   \n",
       "\n",
       "   Price to TTM earnings  Price to TTM sales  Price to book value  \n",
       "0                  36.14                6.80                 8.45  \n",
       "1                  -3.99                0.27                -1.06  \n",
       "2                  15.25                1.01                 3.00  \n",
       "3                  23.42                6.18                35.41  \n",
       "4                  21.52                4.77                16.49  "
      ]
     },
     "execution_count": 18,
     "metadata": {},
     "output_type": "execute_result"
    }
   ],
   "source": [
    "new_df = df\n",
    "new_df['Market cap'] = new_df['Market cap'].str.replace('$','')\n",
    "new_df.head()"
   ]
  },
  {
   "cell_type": "code",
   "execution_count": 19,
   "id": "6496590e",
   "metadata": {},
   "outputs": [
    {
     "data": {
      "text/html": [
       "<div>\n",
       "<style scoped>\n",
       "    .dataframe tbody tr th:only-of-type {\n",
       "        vertical-align: middle;\n",
       "    }\n",
       "\n",
       "    .dataframe tbody tr th {\n",
       "        vertical-align: top;\n",
       "    }\n",
       "\n",
       "    .dataframe thead th {\n",
       "        text-align: right;\n",
       "    }\n",
       "</style>\n",
       "<table border=\"1\" class=\"dataframe\">\n",
       "  <thead>\n",
       "    <tr style=\"text-align: right;\">\n",
       "      <th></th>\n",
       "      <th>Market cap</th>\n",
       "      <th>Dividend yield</th>\n",
       "      <th>Price to TTM earnings</th>\n",
       "      <th>Price to TTM sales</th>\n",
       "      <th>Price to book value</th>\n",
       "    </tr>\n",
       "  </thead>\n",
       "  <tbody>\n",
       "    <tr>\n",
       "      <th>0</th>\n",
       "      <td>43,814,004,360</td>\n",
       "      <td>0.57</td>\n",
       "      <td>36.14</td>\n",
       "      <td>6.80</td>\n",
       "      <td>8.45</td>\n",
       "    </tr>\n",
       "    <tr>\n",
       "      <th>1</th>\n",
       "      <td>9,495,051,959</td>\n",
       "      <td>0.00</td>\n",
       "      <td>-3.99</td>\n",
       "      <td>0.27</td>\n",
       "      <td>-1.06</td>\n",
       "    </tr>\n",
       "    <tr>\n",
       "      <th>2</th>\n",
       "      <td>11,058,148,882</td>\n",
       "      <td>2.96</td>\n",
       "      <td>15.25</td>\n",
       "      <td>1.01</td>\n",
       "      <td>3.00</td>\n",
       "    </tr>\n",
       "    <tr>\n",
       "      <th>3</th>\n",
       "      <td>2,386,854,024,720</td>\n",
       "      <td>0.61</td>\n",
       "      <td>23.42</td>\n",
       "      <td>6.18</td>\n",
       "      <td>35.41</td>\n",
       "    </tr>\n",
       "    <tr>\n",
       "      <th>4</th>\n",
       "      <td>270,648,256,944</td>\n",
       "      <td>3.63</td>\n",
       "      <td>21.52</td>\n",
       "      <td>4.77</td>\n",
       "      <td>16.49</td>\n",
       "    </tr>\n",
       "  </tbody>\n",
       "</table>\n",
       "</div>"
      ],
      "text/plain": [
       "          Market cap  Dividend yield  Price to TTM earnings  \\\n",
       "0     43,814,004,360            0.57                  36.14   \n",
       "1      9,495,051,959            0.00                  -3.99   \n",
       "2     11,058,148,882            2.96                  15.25   \n",
       "3  2,386,854,024,720            0.61                  23.42   \n",
       "4    270,648,256,944            3.63                  21.52   \n",
       "\n",
       "   Price to TTM sales  Price to book value  \n",
       "0                6.80                 8.45  \n",
       "1                0.27                -1.06  \n",
       "2                1.01                 3.00  \n",
       "3                6.18                35.41  \n",
       "4                4.77                16.49  "
      ]
     },
     "execution_count": 19,
     "metadata": {},
     "output_type": "execute_result"
    }
   ],
   "source": [
    "# Selecting only needed variables\n",
    "data = new_df[['Market cap','Dividend yield','Price to TTM earnings', 'Price to TTM sales', 'Price to book value']]\n",
    "data.head()"
   ]
  },
  {
   "cell_type": "code",
   "execution_count": 23,
   "id": "dc57fb2c",
   "metadata": {},
   "outputs": [
    {
     "data": {
      "text/plain": [
       "<function matplotlib.pyplot.show(close=None, block=None)>"
      ]
     },
     "execution_count": 23,
     "metadata": {},
     "output_type": "execute_result"
    },
    {
     "data": {
      "image/png": "[encoded data removed]",
      "text/plain": [
       "<Figure size 432x288 with 2 Axes>"
      ]
     },
     "metadata": {
      "needs_background": "light"
     },
     "output_type": "display_data"
    }
   ],
   "source": [
    "#Creating a heatmap to visualize correlation\n",
    "sns.heatmap(data.corr(), annot = True)\n",
    "plt.title('Correlation between Dividend Yield and other factors')\n",
    "plt.show"
   ]
  },
  {
   "cell_type": "markdown",
   "id": "e2601f18",
   "metadata": {},
   "source": [
    "#### Relationship between Price to TTM earnings and Price to TTM sales "
   ]
  },
  {
   "cell_type": "code",
   "execution_count": 24,
   "id": "651459f2",
   "metadata": {},
   "outputs": [
    {
     "data": {
      "image/png": "[encoded data removed]",
      "text/plain": [
       "<Figure size 432x288 with 1 Axes>"
      ]
     },
     "metadata": {
      "needs_background": "light"
     },
     "output_type": "display_data"
    }
   ],
   "source": [
    "sns.regplot(data = df, x = 'Price to TTM sales', y = 'Price to TTM earnings')\n",
    "plt.title('Relationship between Price to TTM earnings and Price to TTM sales')\n",
    "plt.xlabel('P/S Ratio')\n",
    "plt.ylabel('P/E Ratio')\n",
    "plt.show()"
   ]
  },
  {
   "cell_type": "markdown",
   "id": "2ef24cc1",
   "metadata": {},
   "source": [
    "The larger companies' sales are the higher their earnings are. "
   ]
  },
  {
   "cell_type": "markdown",
   "id": "d5df9897",
   "metadata": {},
   "source": [
    "### Relationship between Dividend Yield  and P/E Ratio"
   ]
  },
  {
   "cell_type": "code",
   "execution_count": 27,
   "id": "692c5aad",
   "metadata": {},
   "outputs": [
    {
     "data": {
      "image/png": "[encoded data removed]",
      "text/plain": [
       "<Figure size 432x288 with 1 Axes>"
      ]
     },
     "metadata": {
      "needs_background": "light"
     },
     "output_type": "display_data"
    }
   ],
   "source": [
    "sns.regplot(data = df, x = 'Dividend yield', y = 'Price to TTM earnings')\n",
    "plt.ylabel('P/E Ratio')\n",
    "plt.title('Relationship between Dividend Yield and P/E Ratio')\n",
    "plt.show()"
   ]
  },
  {
   "cell_type": "markdown",
   "id": "7eac025c",
   "metadata": {},
   "source": [
    "The Plot above makes sense because mature and the most stable companies pay didvidends because they no longer invest all shareholders' money into growth, but pay dividends. These companies tend to have lower growth rate and lower P/E Ratio. Younger companies that focus on their growth, do not pay dividends because they reinvest the profits into their growth, which increases growth rate and PE/ Ratio."
   ]
  },
  {
   "cell_type": "code",
   "execution_count": null,
   "id": "c359a549",
   "metadata": {},
   "outputs": [],
   "source": []
  }
 ],
 "metadata": {
  "kernelspec": {
   "display_name": "Python 3 (ipykernel)",
   "language": "python",
   "name": "python3"
  },
  "language_info": {
   "codemirror_mode": {
    "name": "ipython",
    "version": 3
   },
   "file_extension": ".py",
   "mimetype": "text/x-python",
   "name": "python",
   "nbconvert_exporter": "python",
   "pygments_lexer": "ipython3",
   "version": "3.9.12"
  }
 },
 "nbformat": 4,
 "nbformat_minor": 5
}
