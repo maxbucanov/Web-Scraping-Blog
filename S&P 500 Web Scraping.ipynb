{
 "cells": [
  {
   "cell_type": "code",
   "execution_count": 1,
   "id": "63816b13",
   "metadata": {},
   "outputs": [],
   "source": [
    "import pandas as pd\n",
    "import numpy as np\n",
    "from bs4 import BeautifulSoup\n",
    "import requests\n",
    "import re\n",
    "from html5lib.html5parser import HTMLParser\n",
    "import lxml\n",
    "import html5lib"
   ]
  },
  {
   "cell_type": "code",
   "execution_count": 2,
   "id": "20895c60",
   "metadata": {},
   "outputs": [
    {
     "data": {
      "text/plain": [
       "200"
      ]
     },
     "execution_count": 2,
     "metadata": {},
     "output_type": "execute_result"
    }
   ],
   "source": [
    "#url = 'https://gist.github.com/aishwarya8615/89d9f36fc014dea62487f7347864d16a'\n",
    "url = 'https://stockmarketmba.com/stocksinthesp500.php'\n",
    "r = requests.get(url)\n",
    "r.status_code"
   ]
  },
  {
   "cell_type": "code",
   "execution_count": 3,
   "id": "fb394ae2",
   "metadata": {},
   "outputs": [],
   "source": [
    "soup = BeautifulSoup(r.content)"
   ]
  },
  {
   "cell_type": "code",
   "execution_count": 4,
   "id": "35c8593e",
   "metadata": {},
   "outputs": [],
   "source": [
    "dfs = pd.read_html(url)"
   ]
  },
  {
   "cell_type": "code",
   "execution_count": 5,
   "id": "a71d85eb",
   "metadata": {},
   "outputs": [
    {
     "data": {
      "text/plain": [
       "1"
      ]
     },
     "execution_count": 5,
     "metadata": {},
     "output_type": "execute_result"
    }
   ],
   "source": [
    "len(dfs)"
   ]
  },
  {
   "cell_type": "code",
   "execution_count": 6,
   "id": "944bd84f",
   "metadata": {},
   "outputs": [
    {
     "data": {
      "text/plain": [
       "list"
      ]
     },
     "execution_count": 6,
     "metadata": {},
     "output_type": "execute_result"
    }
   ],
   "source": [
    "type(dfs)"
   ]
  },
  {
   "cell_type": "code",
   "execution_count": 7,
   "id": "b6c0196d",
   "metadata": {},
   "outputs": [
    {
     "data": {
      "text/html": [
       "<div>\n",
       "<style scoped>\n",
       "    .dataframe tbody tr th:only-of-type {\n",
       "        vertical-align: middle;\n",
       "    }\n",
       "\n",
       "    .dataframe tbody tr th {\n",
       "        vertical-align: top;\n",
       "    }\n",
       "\n",
       "    .dataframe thead th {\n",
       "        text-align: right;\n",
       "    }\n",
       "</style>\n",
       "<table border=\"1\" class=\"dataframe\">\n",
       "  <thead>\n",
       "    <tr style=\"text-align: right;\">\n",
       "      <th></th>\n",
       "      <th>Symbol</th>\n",
       "      <th>Description</th>\n",
       "      <th>Category2</th>\n",
       "      <th>Category3</th>\n",
       "      <th>GICS Sector</th>\n",
       "      <th>Market cap</th>\n",
       "      <th>Dividend yield</th>\n",
       "      <th>Price to TTM earnings</th>\n",
       "      <th>Price to TTM sales</th>\n",
       "      <th>Price to book value</th>\n",
       "      <th>Action</th>\n",
       "    </tr>\n",
       "  </thead>\n",
       "  <tbody>\n",
       "    <tr>\n",
       "      <th>0</th>\n",
       "      <td>A</td>\n",
       "      <td>Agilent Technologies Inc</td>\n",
       "      <td>Common stocks</td>\n",
       "      <td>Large cap</td>\n",
       "      <td>Health Care</td>\n",
       "      <td>$37,863,588,903</td>\n",
       "      <td>0.66%</td>\n",
       "      <td>30.88</td>\n",
       "      <td>5.87</td>\n",
       "      <td>7.22</td>\n",
       "      <td>Analyze</td>\n",
       "    </tr>\n",
       "    <tr>\n",
       "      <th>1</th>\n",
       "      <td>AAL</td>\n",
       "      <td>American Airlines Group Inc</td>\n",
       "      <td>Common stocks</td>\n",
       "      <td>Mid cap</td>\n",
       "      <td>Industrials</td>\n",
       "      <td>$8,480,489,347</td>\n",
       "      <td>0.00%</td>\n",
       "      <td>-3.58</td>\n",
       "      <td>0.24</td>\n",
       "      <td>-0.95</td>\n",
       "      <td>Analyze</td>\n",
       "    </tr>\n",
       "    <tr>\n",
       "      <th>2</th>\n",
       "      <td>AAP</td>\n",
       "      <td>Advance Auto Parts Inc</td>\n",
       "      <td>Common stocks</td>\n",
       "      <td>Large cap</td>\n",
       "      <td>Consumer Discretionary</td>\n",
       "      <td>$10,315,087,448</td>\n",
       "      <td>3.17%</td>\n",
       "      <td>16.45</td>\n",
       "      <td>0.94</td>\n",
       "      <td>3.24</td>\n",
       "      <td>Analyze</td>\n",
       "    </tr>\n",
       "    <tr>\n",
       "      <th>3</th>\n",
       "      <td>AAPL</td>\n",
       "      <td>Apple Inc</td>\n",
       "      <td>Common stocks</td>\n",
       "      <td>Large cap</td>\n",
       "      <td>Information Technology</td>\n",
       "      <td>$2,297,956,828,480</td>\n",
       "      <td>0.63%</td>\n",
       "      <td>21.82</td>\n",
       "      <td>5.95</td>\n",
       "      <td>33.00</td>\n",
       "      <td>Analyze</td>\n",
       "    </tr>\n",
       "    <tr>\n",
       "      <th>4</th>\n",
       "      <td>ABBV</td>\n",
       "      <td>Abbvie Inc</td>\n",
       "      <td>Common stocks</td>\n",
       "      <td>Large cap</td>\n",
       "      <td>Health Care</td>\n",
       "      <td>$252,696,351,065</td>\n",
       "      <td>3.89%</td>\n",
       "      <td>20.25</td>\n",
       "      <td>4.45</td>\n",
       "      <td>15.52</td>\n",
       "      <td>Analyze</td>\n",
       "    </tr>\n",
       "  </tbody>\n",
       "</table>\n",
       "</div>"
      ],
      "text/plain": [
       "  Symbol                  Description      Category2  Category3  \\\n",
       "0      A     Agilent Technologies Inc  Common stocks  Large cap   \n",
       "1    AAL  American Airlines Group Inc  Common stocks    Mid cap   \n",
       "2    AAP       Advance Auto Parts Inc  Common stocks  Large cap   \n",
       "3   AAPL                    Apple Inc  Common stocks  Large cap   \n",
       "4   ABBV                   Abbvie Inc  Common stocks  Large cap   \n",
       "\n",
       "              GICS Sector          Market cap Dividend yield  \\\n",
       "0             Health Care     $37,863,588,903          0.66%   \n",
       "1             Industrials      $8,480,489,347          0.00%   \n",
       "2  Consumer Discretionary     $10,315,087,448          3.17%   \n",
       "3  Information Technology  $2,297,956,828,480          0.63%   \n",
       "4             Health Care    $252,696,351,065          3.89%   \n",
       "\n",
       "   Price to TTM earnings  Price to TTM sales  Price to book value   Action  \n",
       "0                  30.88                5.87                 7.22  Analyze  \n",
       "1                  -3.58                0.24                -0.95  Analyze  \n",
       "2                  16.45                0.94                 3.24  Analyze  \n",
       "3                  21.82                5.95                33.00  Analyze  \n",
       "4                  20.25                4.45                15.52  Analyze  "
      ]
     },
     "execution_count": 7,
     "metadata": {},
     "output_type": "execute_result"
    }
   ],
   "source": [
    "data = dfs[0]\n",
    "data.head()"
   ]
  },
  {
   "cell_type": "code",
   "execution_count": null,
   "id": "1caf1f0c",
   "metadata": {},
   "outputs": [],
   "source": []
  }
 ],
 "metadata": {
  "kernelspec": {
   "display_name": "Python 3 (ipykernel)",
   "language": "python",
   "name": "python3"
  },
  "language_info": {
   "codemirror_mode": {
    "name": "ipython",
    "version": 3
   },
   "file_extension": ".py",
   "mimetype": "text/x-python",
   "name": "python",
   "nbconvert_exporter": "python",
   "pygments_lexer": "ipython3",
   "version": "3.9.12"
  }
 },
 "nbformat": 4,
 "nbformat_minor": 5
}
